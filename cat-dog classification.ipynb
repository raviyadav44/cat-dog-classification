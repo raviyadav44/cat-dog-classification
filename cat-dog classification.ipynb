{
  "nbformat": 4,
  "nbformat_minor": 0,
  "metadata": {
    "colab": {
      "name": "Copy of Exercise 5 - Question.ipynb",
      "provenance": [],
      "collapsed_sections": []
    },
    "kernelspec": {
      "display_name": "Python 3",
      "name": "python3"
    },
    "accelerator": "GPU"
  },
  "cells": [
    {
      "cell_type": "code",
      "metadata": {
        "id": "zX4Kg8DUTKWO"
      },
      "source": [
        "#@title Licensed under the Apache License, Version 2.0 (the \"License\");\n",
        "# you may not use this file except in compliance with the License.\n",
        "# You may obtain a copy of the License at\n",
        "#\n",
        "# https://www.apache.org/licenses/LICENSE-2.0\n",
        "#\n",
        "# Unless required by applicable law or agreed to in writing, software\n",
        "# distributed under the License is distributed on an \"AS IS\" BASIS,\n",
        "# WITHOUT WARRANTIES OR CONDITIONS OF ANY KIND, either express or implied.\n",
        "# See the License for the specific language governing permissions and\n",
        "# limitations under the License."
      ],
      "execution_count": 1,
      "outputs": []
    },
    {
      "cell_type": "code",
      "metadata": {
        "id": "dn-6c02VmqiN"
      },
      "source": [
        "# In this exercise you will train a CNN on the FULL Cats-v-dogs dataset\n",
        "# This will require you doing a lot of data preprocessing because\n",
        "# the dataset isn't split into training and validation for you\n",
        "# This code block has all the required inputs\n",
        "import os\n",
        "import zipfile\n",
        "import random\n",
        "import tensorflow as tf\n",
        "from tensorflow.keras.optimizers import RMSprop\n",
        "from tensorflow.keras.preprocessing.image import ImageDataGenerator\n",
        "from shutil import copyfile"
      ],
      "execution_count": 2,
      "outputs": []
    },
    {
      "cell_type": "code",
      "metadata": {
        "colab": {
          "base_uri": "https://localhost:8080/"
        },
        "id": "3sd9dQWa23aj",
        "outputId": "161f2a39-2a22-4313-ee7d-0f6f1a14ab52"
      },
      "source": [
        "# This code block downloads the full Cats-v-Dogs dataset and stores it as \n",
        "# cats-and-dogs.zip. It then unzips it to /tmp\n",
        "# which will create a tmp/PetImages directory containing subdirectories\n",
        "# called 'Cat' and 'Dog' (that's how the original researchers structured it)\n",
        "# If the URL doesn't work, \n",
        "# .   visit https://www.microsoft.com/en-us/download/confirmation.aspx?id=54765\n",
        "# And right click on the 'Download Manually' link to get a new URL\n",
        "\n",
        "!wget --no-check-certificate \\\n",
        "    \"https://download.microsoft.com/download/3/E/1/3E1C3F21-ECDB-4869-8368-6DEBA77B919F/kagglecatsanddogs_3367a.zip\" \\\n",
        "    -O \"/tmp/cats-and-dogs.zip\"\n",
        "\n",
        "local_zip = '/tmp/cats-and-dogs.zip'\n",
        "zip_ref = zipfile.ZipFile(local_zip, 'r')\n",
        "zip_ref.extractall('/tmp')\n",
        "zip_ref.close()\n",
        "\n"
      ],
      "execution_count": 3,
      "outputs": [
        {
          "output_type": "stream",
          "text": [
            "--2020-12-24 06:27:50--  https://download.microsoft.com/download/3/E/1/3E1C3F21-ECDB-4869-8368-6DEBA77B919F/kagglecatsanddogs_3367a.zip\n",
            "Resolving download.microsoft.com (download.microsoft.com)... 23.36.248.137, 2600:1409:3800:1ab::e59, 2600:1409:3800:18d::e59\n",
            "Connecting to download.microsoft.com (download.microsoft.com)|23.36.248.137|:443... connected.\n",
            "HTTP request sent, awaiting response... 200 OK\n",
            "Length: 824894548 (787M) [application/octet-stream]\n",
            "Saving to: ‘/tmp/cats-and-dogs.zip’\n",
            "\n",
            "/tmp/cats-and-dogs. 100%[===================>] 786.68M   148MB/s    in 5.2s    \n",
            "\n",
            "2020-12-24 06:27:55 (151 MB/s) - ‘/tmp/cats-and-dogs.zip’ saved [824894548/824894548]\n",
            "\n"
          ],
          "name": "stdout"
        }
      ]
    },
    {
      "cell_type": "code",
      "metadata": {
        "id": "gi3yD62a6X3S",
        "colab": {
          "base_uri": "https://localhost:8080/"
        },
        "outputId": "d5adc89e-8480-40df-80b9-3cc967aaa742"
      },
      "source": [
        "print(len(os.listdir('/tmp/PetImages/Cat/')))\n",
        "print(len(os.listdir('/tmp/PetImages/Dog/')))\n",
        "\n",
        "# Expected Output:\n",
        "# 12501\n",
        "# 12501"
      ],
      "execution_count": 4,
      "outputs": [
        {
          "output_type": "stream",
          "text": [
            "12501\n",
            "12501\n"
          ],
          "name": "stdout"
        }
      ]
    },
    {
      "cell_type": "code",
      "metadata": {
        "id": "F-QkLjxpmyK2",
        "colab": {
          "base_uri": "https://localhost:8080/"
        },
        "outputId": "a66bb8eb-074b-44e3-b476-47b8068f734f"
      },
      "source": [
        "# Use os.mkdir to create your directories\n",
        "# You will need a directory for cats-v-dogs, and subdirectories for training\n",
        "# and testing. These in turn will need subdirectories for 'cats' and 'dogs'\n",
        "to_create = [\n",
        "    '/tmp/cats-v-dogs',\n",
        "    '/tmp/cats-v-dogs/training',\n",
        "    '/tmp/cats-v-dogs/testing',\n",
        "    '/tmp/cats-v-dogs/training/cats',\n",
        "    '/tmp/cats-v-dogs/training/dogs',\n",
        "    '/tmp/cats-v-dogs/testing/cats',\n",
        "    '/tmp/cats-v-dogs/testing/dogs'\n",
        "]\n",
        "for directory in to_create:\n",
        "    try:\n",
        "        os.mkdir(directory)\n",
        "        print(directory, 'created')\n",
        "    except:\n",
        "        print(directory, 'failed')"
      ],
      "execution_count": 5,
      "outputs": [
        {
          "output_type": "stream",
          "text": [
            "/tmp/cats-v-dogs created\n",
            "/tmp/cats-v-dogs/training created\n",
            "/tmp/cats-v-dogs/testing created\n",
            "/tmp/cats-v-dogs/training/cats created\n",
            "/tmp/cats-v-dogs/training/dogs created\n",
            "/tmp/cats-v-dogs/testing/cats created\n",
            "/tmp/cats-v-dogs/testing/dogs created\n"
          ],
          "name": "stdout"
        }
      ]
    },
    {
      "cell_type": "code",
      "metadata": {
        "id": "zvSODo0f9LaU",
        "colab": {
          "base_uri": "https://localhost:8080/"
        },
        "outputId": "ee431cc3-974b-4e65-9280-2a3bd3be6e72"
      },
      "source": [
        "# Write a python function called split_data which takes\n",
        "# a SOURCE directory containing the files\n",
        "# a TRAINING directory that a portion of the files will be copied to\n",
        "# a TESTING directory that a portion of the files will be copie to\n",
        "# a SPLIT SIZE to determine the portion\n",
        "# The files should also be randomized, so that the training set is a random\n",
        "# X% of the files, and the test set is the remaining files\n",
        "# SO, for example, if SOURCE is PetImages/Cat, and SPLIT SIZE is .9\n",
        "# Then 90% of the images in PetImages/Cat will be copied to the TRAINING dir\n",
        "# and 10% of the images will be copied to the TESTING dir\n",
        "# Also -- All images should be checked, and if they have a zero file length,\n",
        "# they will not be copied over\n",
        "#\n",
        "# os.listdir(DIRECTORY) gives you a listing of the contents of that directory\n",
        "# os.path.getsize(PATH) gives you the size of the file\n",
        "# copyfile(source, destination) copies a file from source to destination\n",
        "# random.sample(list, len(list)) shuffles a list\n",
        "def split_data(SOURCE, TRAINING, TESTING, SPLIT_SIZE):\n",
        "    all_files = []\n",
        "    \n",
        "    for file_name in os.listdir(SOURCE):\n",
        "        file_path = SOURCE + file_name\n",
        "\n",
        "        if os.path.getsize(file_path):\n",
        "            all_files.append(file_name)\n",
        "        else:\n",
        "            print('{} is zero length, so ignoring'.format(file_name))\n",
        "    \n",
        "    n_files = len(all_files)\n",
        "    split_point = int(n_files * SPLIT_SIZE)\n",
        "    \n",
        "    shuffled = random.sample(all_files, n_files)\n",
        "    \n",
        "    train_set = shuffled[:split_point]\n",
        "    test_set = shuffled[split_point:]\n",
        "    \n",
        "    for file_name in train_set:\n",
        "        copyfile(SOURCE + file_name, TRAINING + file_name)\n",
        "        \n",
        "    for file_name in test_set:\n",
        "        copyfile(SOURCE + file_name, TESTING + file_name)\n",
        "\n",
        "\n",
        "CAT_SOURCE_DIR = \"/tmp/PetImages/Cat/\"\n",
        "TRAINING_CATS_DIR = \"/tmp/cats-v-dogs/training/cats/\"\n",
        "TESTING_CATS_DIR = \"/tmp/cats-v-dogs/testing/cats/\"\n",
        "DOG_SOURCE_DIR = \"/tmp/PetImages/Dog/\"\n",
        "TRAINING_DOGS_DIR = \"/tmp/cats-v-dogs/training/dogs/\"\n",
        "TESTING_DOGS_DIR = \"/tmp/cats-v-dogs/testing/dogs/\"\n",
        "\n",
        "split_size = .9\n",
        "split_data(CAT_SOURCE_DIR, TRAINING_CATS_DIR, TESTING_CATS_DIR, split_size)\n",
        "split_data(DOG_SOURCE_DIR, TRAINING_DOGS_DIR, TESTING_DOGS_DIR, split_size)\n",
        "\n",
        "# Expected output\n",
        "# 666.jpg is zero length, so ignoring\n",
        "# 11702.jpg is zero length, so ignoring"
      ],
      "execution_count": 6,
      "outputs": [
        {
          "output_type": "stream",
          "text": [
            "666.jpg is zero length, so ignoring\n",
            "11702.jpg is zero length, so ignoring\n"
          ],
          "name": "stdout"
        }
      ]
    },
    {
      "cell_type": "code",
      "metadata": {
        "id": "luthalB76ufC",
        "colab": {
          "base_uri": "https://localhost:8080/"
        },
        "outputId": "84f1c5b5-70cf-4f4a-8b0b-a2fb6abc9ebc"
      },
      "source": [
        "print(len(os.listdir('/tmp/cats-v-dogs/training/cats/')))\n",
        "print(len(os.listdir('/tmp/cats-v-dogs/training/dogs/')))\n",
        "print(len(os.listdir('/tmp/cats-v-dogs/testing/cats/')))\n",
        "print(len(os.listdir('/tmp/cats-v-dogs/testing/dogs/')))\n",
        "\n",
        "# Expected output:\n",
        "# 11250\n",
        "# 11250\n",
        "# 1250\n",
        "# 1250"
      ],
      "execution_count": 7,
      "outputs": [
        {
          "output_type": "stream",
          "text": [
            "11250\n",
            "11250\n",
            "1250\n",
            "1250\n"
          ],
          "name": "stdout"
        }
      ]
    },
    {
      "cell_type": "code",
      "metadata": {
        "id": "-BQrav4anTmj"
      },
      "source": [
        "# DEFINE A KERAS MODEL TO CLASSIFY CATS V DOGS\n",
        "# USE AT LEAST 3 CONVOLUTION LAYERS\n",
        "model = tf.keras.models.Sequential([\n",
        "    # This is the first convolution\n",
        "    tf.keras.layers.Conv2D(32, (3,3), input_shape=(150, 150, 3),kernel_initializer='HeNormal', activation='relu'),\n",
        "    tf.keras.layers.MaxPooling2D(2,2),\n",
        "    tf.keras.layers.Dropout(0.2),\n",
        "    tf.keras.layers.BatchNormalization(),\n",
        "    tf.keras.layers.Conv2D(64, (3,3),kernel_initializer='HeNormal', activation='relu'),\n",
        "    tf.keras.layers.MaxPooling2D(2,2),\n",
        "    tf.keras.layers.Dropout(0.2),\n",
        "    tf.keras.layers.BatchNormalization(),\n",
        "    tf.keras.layers.Conv2D(128, (3, 3),kernel_initializer='HeNormal', activation='relu'),\n",
        "    tf.keras.layers.MaxPooling2D(2,2),\n",
        "    tf.keras.layers.Dropout(0.2),\n",
        "    tf.keras.layers.BatchNormalization(),\n",
        "    tf.keras.layers.Conv2D(64, (3,3),kernel_initializer='HeNormal', activation='relu'),\n",
        "    tf.keras.layers.MaxPooling2D(2,2),\n",
        "    tf.keras.layers.Dropout(0.2),\n",
        "    tf.keras.layers.BatchNormalization(),\n",
        "    tf.keras.layers.Flatten(),\n",
        "    tf.keras.layers.Dense(512,kernel_initializer='HeNormal', activation='relu'),\n",
        "    tf.keras.layers.Dense(128,kernel_initializer='HeNormal', activation='relu'),\n",
        "    tf.keras.layers.Dense(1,kernel_initializer='GlorotNormal' ,activation='sigmoid')\n",
        "    ])\n",
        "model.compile(optimizer='adam', loss='binary_crossentropy', metrics=['accuracy'])"
      ],
      "execution_count": 22,
      "outputs": []
    },
    {
      "cell_type": "code",
      "metadata": {
        "id": "HVS0cOxOy1AE",
        "colab": {
          "base_uri": "https://localhost:8080/"
        },
        "outputId": "b4f964fc-17ce-4787-8549-8ba8ce724925"
      },
      "source": [
        "model.summary()"
      ],
      "execution_count": 23,
      "outputs": [
        {
          "output_type": "stream",
          "text": [
            "Model: \"sequential_3\"\n",
            "_________________________________________________________________\n",
            "Layer (type)                 Output Shape              Param #   \n",
            "=================================================================\n",
            "conv2d_9 (Conv2D)            (None, 148, 148, 32)      896       \n",
            "_________________________________________________________________\n",
            "max_pooling2d_9 (MaxPooling2 (None, 74, 74, 32)        0         \n",
            "_________________________________________________________________\n",
            "dropout_6 (Dropout)          (None, 74, 74, 32)        0         \n",
            "_________________________________________________________________\n",
            "batch_normalization_6 (Batch (None, 74, 74, 32)        128       \n",
            "_________________________________________________________________\n",
            "conv2d_10 (Conv2D)           (None, 72, 72, 64)        18496     \n",
            "_________________________________________________________________\n",
            "max_pooling2d_10 (MaxPooling (None, 36, 36, 64)        0         \n",
            "_________________________________________________________________\n",
            "dropout_7 (Dropout)          (None, 36, 36, 64)        0         \n",
            "_________________________________________________________________\n",
            "batch_normalization_7 (Batch (None, 36, 36, 64)        256       \n",
            "_________________________________________________________________\n",
            "conv2d_11 (Conv2D)           (None, 34, 34, 128)       73856     \n",
            "_________________________________________________________________\n",
            "max_pooling2d_11 (MaxPooling (None, 17, 17, 128)       0         \n",
            "_________________________________________________________________\n",
            "dropout_8 (Dropout)          (None, 17, 17, 128)       0         \n",
            "_________________________________________________________________\n",
            "batch_normalization_8 (Batch (None, 17, 17, 128)       512       \n",
            "_________________________________________________________________\n",
            "conv2d_12 (Conv2D)           (None, 15, 15, 64)        73792     \n",
            "_________________________________________________________________\n",
            "max_pooling2d_12 (MaxPooling (None, 7, 7, 64)          0         \n",
            "_________________________________________________________________\n",
            "dropout_9 (Dropout)          (None, 7, 7, 64)          0         \n",
            "_________________________________________________________________\n",
            "batch_normalization_9 (Batch (None, 7, 7, 64)          256       \n",
            "_________________________________________________________________\n",
            "flatten_3 (Flatten)          (None, 3136)              0         \n",
            "_________________________________________________________________\n",
            "dense_9 (Dense)              (None, 512)               1606144   \n",
            "_________________________________________________________________\n",
            "dense_10 (Dense)             (None, 128)               65664     \n",
            "_________________________________________________________________\n",
            "dense_11 (Dense)             (None, 1)                 129       \n",
            "=================================================================\n",
            "Total params: 1,840,129\n",
            "Trainable params: 1,839,553\n",
            "Non-trainable params: 576\n",
            "_________________________________________________________________\n"
          ],
          "name": "stdout"
        }
      ]
    },
    {
      "cell_type": "code",
      "metadata": {
        "id": "mlNjoJ5D61N6",
        "colab": {
          "base_uri": "https://localhost:8080/"
        },
        "outputId": "f20a9155-276a-4752-e4c7-09d3ec8aae43"
      },
      "source": [
        "\n",
        "TRAINING_DIR = '/tmp/cats-v-dogs/training'\n",
        "train_datagen = ImageDataGenerator(\n",
        "    rescale=1 / 255,\n",
        "    rotation_range=40,\n",
        "    width_shift_range=.2,\n",
        "    height_shift_range=.2,\n",
        "    shear_range=.2,\n",
        "    zoom_range=.2,\n",
        "    horizontal_flip=True,\n",
        "    fill_mode='nearest'\n",
        ")\n",
        "train_generator = train_datagen.flow_from_directory(\n",
        "    TRAINING_DIR,\n",
        "    batch_size=64,\n",
        "    class_mode='binary',\n",
        "    target_size=(150, 150)\n",
        ")\n",
        "\n",
        "VALIDATION_DIR = '/tmp/cats-v-dogs/testing'\n",
        "validation_datagen = ImageDataGenerator(\n",
        "    rescale=1 / 255,\n",
        "    rotation_range=40,\n",
        "    width_shift_range=.2,\n",
        "    height_shift_range=.2,\n",
        "    shear_range=.2,\n",
        "    zoom_range=.2,\n",
        "    horizontal_flip=True,\n",
        "    fill_mode='nearest'\n",
        "\n",
        ")\n",
        "validation_generator = validation_datagen.flow_from_directory(\n",
        "    VALIDATION_DIR,\n",
        "    batch_size=64,\n",
        "    class_mode='binary',\n",
        "    target_size=(150, 150)\n",
        ")\n"
      ],
      "execution_count": 24,
      "outputs": [
        {
          "output_type": "stream",
          "text": [
            "Found 22498 images belonging to 2 classes.\n",
            "Found 2500 images belonging to 2 classes.\n"
          ],
          "name": "stdout"
        }
      ]
    },
    {
      "cell_type": "code",
      "metadata": {
        "id": "KyS4n53w7DxC",
        "colab": {
          "base_uri": "https://localhost:8080/"
        },
        "outputId": "9ef002d6-e65c-4dde-c0bb-1d7079cec837"
      },
      "source": [
        "import warnings\n",
        "warnings.filterwarnings('ignore')\n",
        "print('warnings ignored')\n",
        "\n",
        "history = model.fit_generator(train_generator,\n",
        "                              epochs=15,\n",
        "                              verbose=1,\n",
        "                              validation_data=validation_generator)"
      ],
      "execution_count": 25,
      "outputs": [
        {
          "output_type": "stream",
          "text": [
            "warnings ignored\n",
            "Epoch 1/15\n",
            "352/352 [==============================] - 175s 494ms/step - loss: 0.7105 - accuracy: 0.5968 - val_loss: 0.7194 - val_accuracy: 0.6052\n",
            "Epoch 2/15\n",
            "352/352 [==============================] - 172s 490ms/step - loss: 0.5880 - accuracy: 0.6835 - val_loss: 0.8755 - val_accuracy: 0.5872\n",
            "Epoch 3/15\n",
            "352/352 [==============================] - 172s 489ms/step - loss: 0.5427 - accuracy: 0.7256 - val_loss: 0.8557 - val_accuracy: 0.6080\n",
            "Epoch 4/15\n",
            "352/352 [==============================] - 172s 488ms/step - loss: 0.4958 - accuracy: 0.7545 - val_loss: 0.7382 - val_accuracy: 0.6508\n",
            "Epoch 5/15\n",
            "352/352 [==============================] - 172s 488ms/step - loss: 0.4616 - accuracy: 0.7846 - val_loss: 0.6201 - val_accuracy: 0.7144\n",
            "Epoch 6/15\n",
            "352/352 [==============================] - 172s 488ms/step - loss: 0.4250 - accuracy: 0.8026 - val_loss: 0.4560 - val_accuracy: 0.7700\n",
            "Epoch 7/15\n",
            "352/352 [==============================] - 172s 489ms/step - loss: 0.3886 - accuracy: 0.8231 - val_loss: 0.5094 - val_accuracy: 0.7676\n",
            "Epoch 8/15\n",
            "352/352 [==============================] - 172s 490ms/step - loss: 0.3551 - accuracy: 0.8419 - val_loss: 0.3476 - val_accuracy: 0.8428\n",
            "Epoch 9/15\n",
            "352/352 [==============================] - 171s 487ms/step - loss: 0.3327 - accuracy: 0.8538 - val_loss: 0.3525 - val_accuracy: 0.8384\n",
            "Epoch 10/15\n",
            "352/352 [==============================] - 172s 489ms/step - loss: 0.3083 - accuracy: 0.8670 - val_loss: 0.3362 - val_accuracy: 0.8460\n",
            "Epoch 11/15\n",
            "352/352 [==============================] - 171s 487ms/step - loss: 0.2972 - accuracy: 0.8722 - val_loss: 0.3238 - val_accuracy: 0.8616\n",
            "Epoch 12/15\n",
            "352/352 [==============================] - 172s 488ms/step - loss: 0.2835 - accuracy: 0.8770 - val_loss: 0.3377 - val_accuracy: 0.8476\n",
            "Epoch 13/15\n",
            "352/352 [==============================] - 172s 487ms/step - loss: 0.2685 - accuracy: 0.8849 - val_loss: 0.3997 - val_accuracy: 0.8328\n",
            "Epoch 14/15\n",
            "352/352 [==============================] - 172s 489ms/step - loss: 0.2643 - accuracy: 0.8851 - val_loss: 0.3068 - val_accuracy: 0.8792\n",
            "Epoch 15/15\n",
            "352/352 [==============================] - 173s 491ms/step - loss: 0.2577 - accuracy: 0.8882 - val_loss: 0.3296 - val_accuracy: 0.8540\n"
          ],
          "name": "stdout"
        }
      ]
    },
    {
      "cell_type": "code",
      "metadata": {
        "id": "MWZrJN4-65RC",
        "colab": {
          "base_uri": "https://localhost:8080/",
          "height": 562
        },
        "outputId": "654ff34f-0c3b-405f-8347-dcce9adc5fec"
      },
      "source": [
        "# PLOT LOSS AND ACCURACY\n",
        "%matplotlib inline\n",
        "\n",
        "import matplotlib.image  as mpimg\n",
        "import matplotlib.pyplot as plt\n",
        "\n",
        "#-----------------------------------------------------------\n",
        "# Retrieve a list of list results on training and test data\n",
        "# sets for each training epoch\n",
        "#-----------------------------------------------------------\n",
        "acc=history.history['accuracy']\n",
        "val_acc=history.history['val_accuracy']\n",
        "loss=history.history['loss']\n",
        "val_loss=history.history['val_loss']\n",
        "\n",
        "epochs=range(len(acc)) # Get number of epochs\n",
        "\n",
        "#------------------------------------------------\n",
        "# Plot training and validation accuracy per epoch\n",
        "#------------------------------------------------\n",
        "plt.plot(epochs, acc, 'r', \"Training Accuracy\")\n",
        "plt.plot(epochs, val_acc, 'b', \"Validation Accuracy\")\n",
        "plt.title('Training and validation accuracy')\n",
        "plt.figure()\n",
        "\n",
        "#------------------------------------------------\n",
        "# Plot training and validation loss per epoch\n",
        "#------------------------------------------------\n",
        "plt.plot(epochs, loss, 'r', \"Training Loss\")\n",
        "plt.plot(epochs, val_loss, 'b', \"Validation Loss\")\n",
        "\n",
        "\n",
        "plt.title('Training and validation loss')\n",
        "\n",
        "# Desired output. Charts with training and validation metrics. No crash :)"
      ],
      "execution_count": 26,
      "outputs": [
        {
          "output_type": "execute_result",
          "data": {
            "text/plain": [
              "Text(0.5, 1.0, 'Training and validation loss')"
            ]
          },
          "metadata": {
            "tags": []
          },
          "execution_count": 26
        },
        {
          "output_type": "display_data",
          "data": {
            "image/png": "[encoded data removed]",
            "text/plain": [
              "<Figure size 432x288 with 1 Axes>"
            ]
          },
          "metadata": {
            "tags": [],
            "needs_background": "light"
          }
        },
        {
          "output_type": "display_data",
          "data": {
            "image/png": "[encoded data removed]",
            "text/plain": [
              "<Figure size 432x288 with 1 Axes>"
            ]
          },
          "metadata": {
            "tags": [],
            "needs_background": "light"
          }
        }
      ]
    }
  ]
}